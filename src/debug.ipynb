{
 "cells": [
  {
   "cell_type": "code",
   "execution_count": 1,
   "id": "initial_id",
   "metadata": {
    "collapsed": true
   },
   "outputs": [],
   "source": [
    "from pathlib import Path\n",
    "from events import EventPair\n",
    "DATA_PATH = '../data/event_pairs.dev'\n",
    "\n",
    "def load_data(fpath: Path):\n",
    "    with open(fpath, 'r', encoding='utf-8') as f:\n",
    "        for line in f:\n",
    "            yield EventPair(line, is_test_set=False)\n",
    "\n",
    "event_pairs = list(load_data(DATA_PATH))"
   ]
  },
  {
   "cell_type": "code",
   "execution_count": 2,
   "metadata": {},
   "outputs": [
    {
     "data": {
      "text/plain": [
       "36438"
      ]
     },
     "execution_count": 2,
     "metadata": {},
     "output_type": "execute_result"
    }
   ],
   "source": [
    "len(event_pairs)"
   ]
  },
  {
   "cell_type": "code",
   "execution_count": 3,
   "metadata": {},
   "outputs": [
    {
     "name": "stdout",
     "output_type": "stream",
     "text": [
      "fighting | conflict\n",
      "killed | deaths\n",
      "raid | strikes\n",
      "raid | raid\n",
      "operation | raided\n",
      "operation | raided\n",
      "operation | strikes\n",
      "bombarded | operation\n",
      "bombarded | airstrikes\n",
      "fighting | fighting\n"
     ]
    }
   ],
   "source": [
    "for i in range(10):\n",
    "    e1, e2 = event_pairs[i].events\n",
    "    print(f\"{e1} | {e2}\")"
   ]
  },
  {
   "cell_type": "code",
   "execution_count": null,
   "metadata": {},
   "outputs": [],
   "source": []
  }
 ],
 "metadata": {
  "kernelspec": {
   "display_name": "Python 3",
   "language": "python",
   "name": "python3"
  },
  "language_info": {
   "codemirror_mode": {
    "name": "ipython",
    "version": 3
   },
   "file_extension": ".py",
   "mimetype": "text/x-python",
   "name": "python",
   "nbconvert_exporter": "python",
   "pygments_lexer": "ipython3",
   "version": "3.12.3"
  }
 },
 "nbformat": 4,
 "nbformat_minor": 5
}
