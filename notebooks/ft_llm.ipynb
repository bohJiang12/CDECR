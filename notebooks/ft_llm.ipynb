{
 "cells": [
  {
   "cell_type": "code",
   "execution_count": 4,
   "metadata": {},
   "outputs": [
    {
     "ename": "ModuleNotFoundError",
     "evalue": "No module named 'src'",
     "output_type": "error",
     "traceback": [
      "\u001b[0;31m---------------------------------------------------------------------------\u001b[0m",
      "\u001b[0;31mModuleNotFoundError\u001b[0m                       Traceback (most recent call last)",
      "\u001b[1;32m/home/bohan-jiang/start/232-stat-nlp/232-cdecr/notebooks/ft_llm.ipynb Cell 1\u001b[0m line \u001b[0;36m1\n\u001b[0;32m----> <a href='vscode-notebook-cell://ssh-remote%2Bubuntu/home/bohan-jiang/start/232-stat-nlp/232-cdecr/notebooks/ft_llm.ipynb#W0sdnNjb2RlLXJlbW90ZQ%3D%3D?line=0'>1</a>\u001b[0m \u001b[39mfrom\u001b[39;00m\u001b[39m \u001b[39m\u001b[39msrc\u001b[39;00m\u001b[39m.\u001b[39;00m\u001b[39mevents\u001b[39;00m\u001b[39m \u001b[39m\u001b[39mimport\u001b[39;00m EventPair\n\u001b[1;32m      <a href='vscode-notebook-cell://ssh-remote%2Bubuntu/home/bohan-jiang/start/232-stat-nlp/232-cdecr/notebooks/ft_llm.ipynb#W0sdnNjb2RlLXJlbW90ZQ%3D%3D?line=2'>3</a>\u001b[0m \u001b[39mfrom\u001b[39;00m\u001b[39m \u001b[39m\u001b[39mtyping\u001b[39;00m\u001b[39m \u001b[39m\u001b[39mimport\u001b[39;00m Union, Dict, Iterable\n\u001b[1;32m      <a href='vscode-notebook-cell://ssh-remote%2Bubuntu/home/bohan-jiang/start/232-stat-nlp/232-cdecr/notebooks/ft_llm.ipynb#W0sdnNjb2RlLXJlbW90ZQ%3D%3D?line=3'>4</a>\u001b[0m \u001b[39mfrom\u001b[39;00m\u001b[39m \u001b[39m\u001b[39mpathlib\u001b[39;00m\u001b[39m \u001b[39m\u001b[39mimport\u001b[39;00m Path\n",
      "\u001b[0;31mModuleNotFoundError\u001b[0m: No module named 'src'"
     ]
    }
   ],
   "source": [
    "from src.events import EventPair\n",
    "\n",
    "from typing import Union, Dict, Iterable\n",
    "from pathlib import Path\n",
    "\n",
    "from transformers import (\n",
    "    Qwen2ForSequenceClassification,\n",
    "    Qwen2Tokenizer,\n",
    "    DataCollatorWithPadding,\n",
    "    Trainer,\n",
    "    TrainingArguments\n",
    "    )\n",
    "\n",
    "from peft import (\n",
    "    LoraConfig,\n",
    "    TaskType,\n",
    "    get_peft_model\n",
    ")\n",
    "\n",
    "from datasets import Dataset\n",
    "import evaluate\n",
    "\n",
    "import numpy as np"
   ]
  },
  {
   "cell_type": "code",
   "execution_count": 27,
   "metadata": {},
   "outputs": [],
   "source": [
    "checkpoint = 'Qwen/Qwen2.5-1.5B'\n",
    "tokenizer = Qwen2Tokenizer.from_pretrained(checkpoint)\n",
    "data_collator = DataCollatorWithPadding(tokenizer=tokenizer)"
   ]
  },
  {
   "cell_type": "code",
   "execution_count": 28,
   "metadata": {},
   "outputs": [],
   "source": [
    "tokenizer.pad_token_id = tokenizer.eos_token_id\n",
    "tokenizer.pad_token = tokenizer.eos_token"
   ]
  },
  {
   "cell_type": "code",
   "execution_count": 5,
   "metadata": {},
   "outputs": [],
   "source": [
    "def load_data(fpath: Union[str, Path]) -> Iterable[EventPair]:\n",
    "    \"\"\"Load and yield dataset from its path\"\"\"\n",
    "    is_test_set = Path(fpath).suffix == '.test'\n",
    "    with open(fpath, 'r', encoding='utf-8') as f:\n",
    "        for line in f:\n",
    "            yield EventPair(line, is_test_set)\n",
    "\n",
    "\n",
    "def tokenize_func(sample):\n",
    "    \"\"\"Define tokenization function for a single sample\"\"\"\n",
    "    return tokenizer(\n",
    "        sample['event_1'],\n",
    "        sample['event_2'],\n",
    "        truncation=True\n",
    "    )\n",
    "\n",
    "\n",
    "def build_dataset_from(fpath) -> Dataset:\n",
    "    \"\"\"Build HF's `Dataset` for training\"\"\"\n",
    "    event_pairs = load_data(fpath)\n",
    "    events_1, events_2, labels = [], [], []\n",
    "\n",
    "    for pair in event_pairs:\n",
    "        event_1, event_2 = pair.events\n",
    "        label = pair.label\n",
    "\n",
    "        events_1.append(event_1)\n",
    "        events_2.append(event_2)\n",
    "        labels.append(label)\n",
    "\n",
    "    data_dict = {\n",
    "        'event_1': events_1,\n",
    "        'event_2': events_2,\n",
    "        'label': labels\n",
    "    }\n",
    "\n",
    "    dataset = Dataset.from_dict(data_dict)\n",
    "\n",
    "    return dataset.map(tokenize_func, batched=True)"
   ]
  },
  {
   "cell_type": "code",
   "execution_count": 6,
   "metadata": {},
   "outputs": [
    {
     "name": "stderr",
     "output_type": "stream",
     "text": [
      "Map: 100%|██████████| 227328/227328 [00:04<00:00, 45762.33 examples/s]\n",
      "Map: 100%|██████████| 36438/36438 [00:00<00:00, 38970.01 examples/s]\n",
      "Map: 100%|██████████| 42953/42953 [00:01<00:00, 42670.88 examples/s]\n"
     ]
    }
   ],
   "source": [
    "data_dir = Path('../data')\n",
    "train_data = build_dataset_from(data_dir / \"event_pairs.train\")\n",
    "dev_data = build_dataset_from(data_dir / \"event_pairs.dev\")\n",
    "test_data = build_dataset_from(data_dir / \"event_pairs.test\")"
   ]
  },
  {
   "cell_type": "code",
   "execution_count": 9,
   "metadata": {},
   "outputs": [
    {
     "data": {
      "text/plain": [
       "{'event_1': 'elections',\n",
       " 'event_2': 'campaign',\n",
       " 'label': 1,\n",
       " 'input_ids': [61472, 82, 37339],\n",
       " 'attention_mask': [1, 1, 1]}"
      ]
     },
     "execution_count": 9,
     "metadata": {},
     "output_type": "execute_result"
    }
   ],
   "source": [
    "train_data[0]"
   ]
  },
  {
   "cell_type": "code",
   "execution_count": 30,
   "metadata": {},
   "outputs": [
    {
     "name": "stderr",
     "output_type": "stream",
     "text": [
      "Some weights of Qwen2ForSequenceClassification were not initialized from the model checkpoint at Qwen/Qwen2.5-1.5B and are newly initialized: ['score.weight']\n",
      "You should probably TRAIN this model on a down-stream task to be able to use it for predictions and inference.\n"
     ]
    },
    {
     "name": "stdout",
     "output_type": "stream",
     "text": [
      "trainable params: 411,648 || all params: 1,544,129,024 || trainable%: 0.0267\n"
     ]
    }
   ],
   "source": [
    "peft_config = LoraConfig(\n",
    "    task_type=TaskType.SEQ_CLS,\n",
    "    inference_mode=False,\n",
    "    r=3,\n",
    "    lora_alpha=16,\n",
    "    lora_dropout=0.1,\n",
    "    bias='none',\n",
    "    target_modules=['q_proj', 'v_proj']\n",
    ")\n",
    "\n",
    "model = Qwen2ForSequenceClassification.from_pretrained(checkpoint, num_labels=2)\n",
    "model = get_peft_model(model, peft_config)\n",
    "model.print_trainable_parameters()\n",
    "\n",
    "model.config.pad_token_id = model.config.eos_token_id"
   ]
  },
  {
   "cell_type": "code",
   "execution_count": 31,
   "metadata": {},
   "outputs": [],
   "source": [
    "training_args = TrainingArguments('test-trainer', eval_strategy='epoch')"
   ]
  },
  {
   "cell_type": "code",
   "execution_count": 32,
   "metadata": {},
   "outputs": [],
   "source": [
    "def compute_metrics(eval_preds):\n",
    "    metric = evaluate.load('accuracy')\n",
    "    logits, labels = eval_preds\n",
    "    predictions = np.argmax(logits, axis=-1)\n",
    "    return metric.compute(references=labels, predictions=predictions)"
   ]
  },
  {
   "cell_type": "code",
   "execution_count": 33,
   "metadata": {},
   "outputs": [
    {
     "name": "stderr",
     "output_type": "stream",
     "text": [
      "/tmp/ipykernel_300137/779084427.py:1: FutureWarning: `tokenizer` is deprecated and will be removed in version 5.0.0 for `Trainer.__init__`. Use `processing_class` instead.\n",
      "  trainer = Trainer(\n"
     ]
    }
   ],
   "source": [
    "trainer = Trainer(\n",
    "    model=model,\n",
    "    args=training_args,\n",
    "    train_dataset=train_data,\n",
    "    eval_dataset=dev_data,\n",
    "    tokenizer=tokenizer,\n",
    "    data_collator=data_collator,\n",
    "    compute_metrics=compute_metrics\n",
    ")"
   ]
  },
  {
   "cell_type": "code",
   "execution_count": 34,
   "metadata": {},
   "outputs": [
    {
     "data": {
      "text/html": [
       "\n",
       "    <div>\n",
       "      \n",
       "      <progress value='85248' max='85248' style='width:300px; height:20px; vertical-align: middle;'></progress>\n",
       "      [85248/85248 47:44, Epoch 3/3]\n",
       "    </div>\n",
       "    <table border=\"1\" class=\"dataframe\">\n",
       "  <thead>\n",
       " <tr style=\"text-align: left;\">\n",
       "      <th>Epoch</th>\n",
       "      <th>Training Loss</th>\n",
       "      <th>Validation Loss</th>\n",
       "      <th>Accuracy</th>\n",
       "    </tr>\n",
       "  </thead>\n",
       "  <tbody>\n",
       "    <tr>\n",
       "      <td>1</td>\n",
       "      <td>0.170000</td>\n",
       "      <td>0.273525</td>\n",
       "      <td>0.941984</td>\n",
       "    </tr>\n",
       "    <tr>\n",
       "      <td>2</td>\n",
       "      <td>0.125900</td>\n",
       "      <td>0.339485</td>\n",
       "      <td>0.939404</td>\n",
       "    </tr>\n",
       "    <tr>\n",
       "      <td>3</td>\n",
       "      <td>0.144100</td>\n",
       "      <td>0.340588</td>\n",
       "      <td>0.938937</td>\n",
       "    </tr>\n",
       "  </tbody>\n",
       "</table><p>"
      ],
      "text/plain": [
       "<IPython.core.display.HTML object>"
      ]
     },
     "metadata": {},
     "output_type": "display_data"
    },
    {
     "data": {
      "text/plain": [
       "TrainOutput(global_step=85248, training_loss=0.1536702030861342, metrics={'train_runtime': 2864.2796, 'train_samples_per_second': 238.1, 'train_steps_per_second': 29.762, 'total_flos': 2.5213123243106304e+16, 'train_loss': 0.1536702030861342, 'epoch': 3.0})"
      ]
     },
     "execution_count": 34,
     "metadata": {},
     "output_type": "execute_result"
    }
   ],
   "source": [
    "trainer.train()"
   ]
  },
  {
   "cell_type": "code",
   "execution_count": null,
   "metadata": {},
   "outputs": [],
   "source": []
  }
 ],
 "metadata": {
  "kernelspec": {
   "display_name": ".sft",
   "language": "python",
   "name": "python3"
  },
  "language_info": {
   "codemirror_mode": {
    "name": "ipython",
    "version": 3
   },
   "file_extension": ".py",
   "mimetype": "text/x-python",
   "name": "python",
   "nbconvert_exporter": "python",
   "pygments_lexer": "ipython3",
   "version": "3.12.3"
  }
 },
 "nbformat": 4,
 "nbformat_minor": 2
}
