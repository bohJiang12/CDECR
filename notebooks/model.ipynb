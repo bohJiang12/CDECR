{
 "cells": [
  {
   "cell_type": "code",
   "execution_count": 2,
   "metadata": {},
   "outputs": [],
   "source": [
    "from events import EventPair\n",
    "\n",
    "from typing import Dict, Iterable\n",
    "from pathlib import Path\n",
    "\n",
    "import numpy as np\n",
    "\n",
    "from transformers import (\n",
    "    RobertaForSequenceClassification,\n",
    "    RobertaTokenizer,\n",
    "    DataCollatorWithPadding,\n",
    "    Trainer,\n",
    "    TrainingArguments\n",
    "    )\n",
    "\n",
    "from peft import (\n",
    "    LoraConfig,\n",
    "    TaskType,\n",
    "    get_peft_model\n",
    ")\n",
    "\n",
    "from datasets import Dataset\n",
    "import evaluate"
   ]
  },
  {
   "cell_type": "markdown",
   "metadata": {},
   "source": [
    "## Preprocessing data"
   ]
  },
  {
   "cell_type": "code",
   "execution_count": 4,
   "metadata": {},
   "outputs": [],
   "source": [
    "checkpoint = 'FacebookAI/roberta-base'\n",
    "tokenizer = RobertaTokenizer.from_pretrained(checkpoint)\n",
    "data_collator = DataCollatorWithPadding(tokenizer=tokenizer)"
   ]
  },
  {
   "cell_type": "code",
   "execution_count": 5,
   "metadata": {},
   "outputs": [],
   "source": [
    "def load_data(fpath):\n",
    "    \"\"\"Load and yield dataset from its path\"\"\"\n",
    "    is_test_set = Path(fpath).suffix == '.test'\n",
    "    with open(fpath, 'r', encoding='utf-8') as f:\n",
    "        for line in f:\n",
    "            yield EventPair(line, is_test_set)\n",
    "\n",
    "\n",
    "def tokenize_func(sample):\n",
    "    \"\"\"Define tokenization function for a single sample\"\"\"\n",
    "    return tokenizer(\n",
    "        sample['event_1'],\n",
    "        sample['event_2'],\n",
    "        truncation=True\n",
    "    )\n",
    "\n",
    "\n",
    "def build_dataset_from(fpath) -> Dataset:\n",
    "    \"\"\"Build HF's `Dataset` for training\"\"\"\n",
    "    event_pairs = load_data(fpath)\n",
    "    events_1, events_2, labels = [], [], []\n",
    "\n",
    "    for pair in event_pairs:\n",
    "        event_1, event_2 = pair.events\n",
    "        label = pair.label\n",
    "\n",
    "        events_1.append(event_1)\n",
    "        events_2.append(event_2)\n",
    "        labels.append(label)\n",
    "\n",
    "    data_dict = {\n",
    "        'event_1': events_1,\n",
    "        'event_2': events_2,\n",
    "        'label': labels\n",
    "    }\n",
    "\n",
    "    dataset = Dataset.from_dict(data_dict)\n",
    "\n",
    "    return dataset.map(tokenize_func, batched=True)"
   ]
  },
  {
   "cell_type": "code",
   "execution_count": 6,
   "metadata": {},
   "outputs": [
    {
     "name": "stderr",
     "output_type": "stream",
     "text": [
      "Map: 100%|██████████| 227328/227328 [00:07<00:00, 28608.33 examples/s]\n",
      "Map: 100%|██████████| 36438/36438 [00:01<00:00, 28294.53 examples/s]\n",
      "Map: 100%|██████████| 42953/42953 [00:01<00:00, 28225.15 examples/s]\n"
     ]
    }
   ],
   "source": [
    "train_data = build_dataset_from('../data/event_pairs.train')\n",
    "dev_data = build_dataset_from('../data/event_pairs.dev')\n",
    "test_data = build_dataset_from('../data/event_pairs.test')"
   ]
  },
  {
   "cell_type": "code",
   "execution_count": 7,
   "metadata": {},
   "outputs": [
    {
     "data": {
      "text/plain": [
       "datasets.arrow_dataset.Dataset"
      ]
     },
     "execution_count": 7,
     "metadata": {},
     "output_type": "execute_result"
    }
   ],
   "source": [
    "type(train_data)"
   ]
  },
  {
   "cell_type": "code",
   "execution_count": 12,
   "metadata": {},
   "outputs": [
    {
     "name": "stdout",
     "output_type": "stream",
     "text": [
      "1\n",
      "1\n",
      "1\n",
      "1\n",
      "1\n"
     ]
    }
   ],
   "source": [
    "for i in range(5):\n",
    "   print(train_data[i]['label'])"
   ]
  },
  {
   "cell_type": "markdown",
   "metadata": {},
   "source": [
    "## Model configuration"
   ]
  },
  {
   "cell_type": "markdown",
   "metadata": {},
   "source": [
    "### Config LoRA for PEFT"
   ]
  },
  {
   "cell_type": "code",
   "execution_count": 8,
   "metadata": {},
   "outputs": [],
   "source": [
    "peft_config = LoraConfig(\n",
    "    task_type=TaskType.SEQ_CLS,\n",
    "    inference_mode=False,\n",
    "    r=3,\n",
    "    lora_alpha=32,\n",
    "    lora_dropout=0.1\n",
    ")"
   ]
  },
  {
   "cell_type": "code",
   "execution_count": 9,
   "metadata": {},
   "outputs": [
    {
     "name": "stderr",
     "output_type": "stream",
     "text": [
      "Some weights of RobertaForSequenceClassification were not initialized from the model checkpoint at FacebookAI/roberta-base and are newly initialized: ['classifier.dense.bias', 'classifier.dense.weight', 'classifier.out_proj.bias', 'classifier.out_proj.weight']\n",
      "You should probably TRAIN this model on a down-stream task to be able to use it for predictions and inference.\n"
     ]
    },
    {
     "name": "stdout",
     "output_type": "stream",
     "text": [
      "trainable params: 702,722 || all params: 125,349,892 || trainable%: 0.5606\n"
     ]
    }
   ],
   "source": [
    "model = RobertaForSequenceClassification.from_pretrained(checkpoint, num_labels=2)\n",
    "model = get_peft_model(model, peft_config)\n",
    "model.print_trainable_parameters()"
   ]
  },
  {
   "cell_type": "markdown",
   "metadata": {},
   "source": [
    "### Config training arguments"
   ]
  },
  {
   "cell_type": "code",
   "execution_count": 10,
   "metadata": {},
   "outputs": [],
   "source": [
    "# cache_dir = Path('../.cache/ft_models/')\n",
    "# if not cache_dir.exists():\n",
    "#     cache_dir.mkdir()\n",
    "\n",
    "# training_args = TrainingArguments(\n",
    "#     output_dir=cache_dir / 'lora_roberta',\n",
    "#     learning_rate=1e-3,\n",
    "#     per_device_train_batch_size=32,\n",
    "#     per_device_eval_batch_size=32,\n",
    "#     num_train_epochs=2,\n",
    "#     eval_strategy='epoch',\n",
    "#     save_strategy='epoch',\n",
    "#     load_best_model_at_end=True\n",
    "# )\n",
    "training_args = TrainingArguments('test-trainer', eval_strategy='epoch')"
   ]
  },
  {
   "cell_type": "code",
   "execution_count": 49,
   "metadata": {},
   "outputs": [],
   "source": [
    "import torch\n",
    "from torch.nn import CrossEntropyLoss\n",
    "from collections import Counter\n",
    "\n",
    "def weighted_loss_fn(training_data: Dataset):\n",
    "    label_counts = Counter(sample['label'] for sample in training_data)\n",
    "\n",
    "    total_samples = sum(label_counts.values())\n",
    "    class_counts = np.array([label_counts.get(0, 1), label_counts.get(1, 1)])\n",
    "\n",
    "    weights = total_samples / (2.0 * class_counts)\n",
    "    weights_tensor = torch.tensor(weights, dtype=torch.float32).to('cuda')\n",
    "\n",
    "    return weights_tensor, CrossEntropyLoss(weight=weights_tensor)\n",
    "\n",
    "\n",
    "class WeightedTrainer(Trainer):\n",
    "    def __init__(self, *args, loss_fn=None, **kwargs):\n",
    "        super().__init__(*args, **kwargs)\n",
    "        self.loss_fn = loss_fn if loss_fn is not None else CrossEntropyLoss()\n",
    "\n",
    "    def compute_loss(self, model, inputs, return_outputs=False, **kwargs):\n",
    "        labels = inputs.pop(\"labels\")  # Extract labels\n",
    "        outputs = model(**inputs)\n",
    "        logits = outputs.logits  # Extract model logits\n",
    "\n",
    "        loss = self.loss_fn(logits, labels)  # Compute loss\n",
    "\n",
    "        return (loss, outputs) if return_outputs else loss"
   ]
  },
  {
   "cell_type": "code",
   "execution_count": 50,
   "metadata": {},
   "outputs": [
    {
     "data": {
      "text/plain": [
       "tensor([0.5473, 5.7847], device='cuda:0')"
      ]
     },
     "execution_count": 50,
     "metadata": {},
     "output_type": "execute_result"
    }
   ],
   "source": [
    "w, _ = weighted_loss_fn(train_data)\n",
    "w\n"
   ]
  },
  {
   "cell_type": "code",
   "execution_count": 46,
   "metadata": {},
   "outputs": [],
   "source": [
    "def compute_metrics(eval_preds):\n",
    "    acc_metric = evaluate.load('accuracy')\n",
    "    f1_metric = evaluate.load('f1')\n",
    "    precision_metric = evaluate.load(\"precision\")\n",
    "\n",
    "    logits, labels = eval_preds\n",
    "    predictions = np.argmax(logits, axis=-1)\n",
    "\n",
    "    f1 = f1_metric.compute(references=labels, predictions=predictions)['f1']\n",
    "    acc = acc_metric.compute(references=labels, predictions=predictions)\n",
    "    precision = precision_metric.compute(references=labels, predictions=predictions)\n",
    "\n",
    "    # return metric.compute(references=labels, predictions=predictions)\n",
    "    return {'acc': acc, 'precision': precision, 'F1': f1}"
   ]
  },
  {
   "cell_type": "code",
   "execution_count": 47,
   "metadata": {},
   "outputs": [
    {
     "name": "stderr",
     "output_type": "stream",
     "text": [
      "/tmp/ipykernel_347810/3609107445.py:19: FutureWarning: `tokenizer` is deprecated and will be removed in version 5.0.0 for `WeightedTrainer.__init__`. Use `processing_class` instead.\n",
      "  super().__init__(*args, **kwargs)\n"
     ]
    }
   ],
   "source": [
    "loss_fn = weighted_loss_fn(train_data)\n",
    "\n",
    "trainer = WeightedTrainer(\n",
    "    model=model,\n",
    "    args=training_args,\n",
    "    train_dataset=train_data,\n",
    "    eval_dataset=dev_data,\n",
    "    tokenizer=tokenizer,\n",
    "    data_collator=data_collator,\n",
    "    compute_metrics=compute_metrics,\n",
    "    loss_fn=loss_fn\n",
    ")"
   ]
  },
  {
   "cell_type": "code",
   "execution_count": 48,
   "metadata": {},
   "outputs": [
    {
     "data": {
      "text/html": [
       "\n",
       "    <div>\n",
       "      \n",
       "      <progress value='85248' max='85248' style='width:300px; height:20px; vertical-align: middle;'></progress>\n",
       "      [85248/85248 14:55, Epoch 3/3]\n",
       "    </div>\n",
       "    <table border=\"1\" class=\"dataframe\">\n",
       "  <thead>\n",
       " <tr style=\"text-align: left;\">\n",
       "      <th>Epoch</th>\n",
       "      <th>Training Loss</th>\n",
       "      <th>Validation Loss</th>\n",
       "      <th>Acc</th>\n",
       "      <th>Precision</th>\n",
       "      <th>F1</th>\n",
       "    </tr>\n",
       "  </thead>\n",
       "  <tbody>\n",
       "    <tr>\n",
       "      <td>1</td>\n",
       "      <td>0.405000</td>\n",
       "      <td>0.331965</td>\n",
       "      <td>{'accuracy': 0.9300455568362699}</td>\n",
       "      <td>{'precision': 0.6361216730038023}</td>\n",
       "      <td>0.567600</td>\n",
       "    </tr>\n",
       "    <tr>\n",
       "      <td>2</td>\n",
       "      <td>0.333300</td>\n",
       "      <td>0.343859</td>\n",
       "      <td>{'accuracy': 0.9374828475767056}</td>\n",
       "      <td>{'precision': 0.7503805175038052}</td>\n",
       "      <td>0.564935</td>\n",
       "    </tr>\n",
       "    <tr>\n",
       "      <td>3</td>\n",
       "      <td>0.390300</td>\n",
       "      <td>0.352099</td>\n",
       "      <td>{'accuracy': 0.9363576486085954}</td>\n",
       "      <td>{'precision': 0.7428131416837782}</td>\n",
       "      <td>0.555151</td>\n",
       "    </tr>\n",
       "  </tbody>\n",
       "</table><p>"
      ],
      "text/plain": [
       "<IPython.core.display.HTML object>"
      ]
     },
     "metadata": {},
     "output_type": "display_data"
    },
    {
     "data": {
      "text/plain": [
       "TrainOutput(global_step=85248, training_loss=0.4028636823903333, metrics={'train_runtime': 895.5361, 'train_samples_per_second': 761.537, 'train_steps_per_second': 95.192, 'total_flos': 3098421928873152.0, 'train_loss': 0.4028636823903333, 'epoch': 3.0})"
      ]
     },
     "execution_count": 48,
     "metadata": {},
     "output_type": "execute_result"
    }
   ],
   "source": [
    "trainer.train()"
   ]
  },
  {
   "cell_type": "code",
   "execution_count": null,
   "metadata": {},
   "outputs": [],
   "source": []
  }
 ],
 "metadata": {
  "kernelspec": {
   "display_name": ".sft",
   "language": "python",
   "name": "python3"
  },
  "language_info": {
   "codemirror_mode": {
    "name": "ipython",
    "version": 3
   },
   "file_extension": ".py",
   "mimetype": "text/x-python",
   "name": "python",
   "nbconvert_exporter": "python",
   "pygments_lexer": "ipython3",
   "version": "3.12.3"
  }
 },
 "nbformat": 4,
 "nbformat_minor": 2
}
