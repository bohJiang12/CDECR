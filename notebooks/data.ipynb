{
 "cells": [
  {
   "cell_type": "code",
   "execution_count": 1,
   "id": "initial_id",
   "metadata": {
    "collapsed": true,
    "execution": {
     "iopub.execute_input": "2025-02-21T21:28:18.659697Z",
     "iopub.status.busy": "2025-02-21T21:28:18.659369Z",
     "iopub.status.idle": "2025-02-21T21:28:18.664445Z",
     "shell.execute_reply": "2025-02-21T21:28:18.663619Z"
    }
   },
   "outputs": [],
   "source": [
    "from pathlib import Path\n",
    "DATA_PATH = '../data/event_pairs.dev'"
   ]
  },
  {
   "cell_type": "code",
   "execution_count": 2,
   "id": "6fd2c782b88640dc",
   "metadata": {
    "execution": {
     "iopub.execute_input": "2025-02-21T21:28:18.667884Z",
     "iopub.status.busy": "2025-02-21T21:28:18.667394Z",
     "iopub.status.idle": "2025-02-21T21:28:18.672734Z",
     "shell.execute_reply": "2025-02-21T21:28:18.671667Z"
    }
   },
   "outputs": [],
   "source": [
    "i = 0\n",
    "sample = []\n",
    "with open(DATA_PATH, 'r') as f:\n",
    "    for line in f:\n",
    "        if i > 0:\n",
    "            break\n",
    "        sample.append(line)\n",
    "        i += 1"
   ]
  },
  {
   "cell_type": "code",
   "execution_count": 3,
   "id": "f6494996a7d24762",
   "metadata": {
    "execution": {
     "iopub.execute_input": "2025-02-21T21:28:18.676681Z",
     "iopub.status.busy": "2025-02-21T21:28:18.676037Z",
     "iopub.status.idle": "2025-02-21T21:28:18.685363Z",
     "shell.execute_reply": "2025-02-21T21:28:18.684740Z"
    }
   },
   "outputs": [
    {
     "data": {
      "text/plain": [
       "['Here is what we know about the fighting at and around Al - Shifa medical center that the Israeli army says has killed more than 140 Palestinian militants .',\n",
       " '7',\n",
       " '7',\n",
       " '-1',\n",
       " '-1',\n",
       " '-1',\n",
       " '-1',\n",
       " '-1',\n",
       " '-1',\n",
       " '-1',\n",
       " '-1',\n",
       " 'Global calls for a humanitarian ceasefire have mounted in recent days as Al - Shifa became the focus of Israel ’s war on Hamas , and fears grew for the thousands of people trapped there , on the frontline of the conflict .',\n",
       " '41',\n",
       " '41',\n",
       " '-1',\n",
       " '-1',\n",
       " '-1',\n",
       " '-1',\n",
       " '-1',\n",
       " '-1',\n",
       " '-1',\n",
       " '-1',\n",
       " '1']"
      ]
     },
     "execution_count": 3,
     "metadata": {},
     "output_type": "execute_result"
    }
   ],
   "source": [
    "parts = sample[0].strip().split('\\t')\n",
    "parts"
   ]
  },
  {
   "cell_type": "code",
   "execution_count": 4,
   "id": "9ace14c6",
   "metadata": {
    "execution": {
     "iopub.execute_input": "2025-02-21T21:28:18.688791Z",
     "iopub.status.busy": "2025-02-21T21:28:18.688344Z",
     "iopub.status.idle": "2025-02-21T21:28:18.691708Z",
     "shell.execute_reply": "2025-02-21T21:28:18.691088Z"
    }
   },
   "outputs": [],
   "source": [
    "from typing import List, Tuple, Dict\n",
    "from enum import Enum"
   ]
  },
  {
   "cell_type": "code",
   "execution_count": 5,
   "id": "ea6347d9",
   "metadata": {
    "execution": {
     "iopub.execute_input": "2025-02-21T21:28:18.695279Z",
     "iopub.status.busy": "2025-02-21T21:28:18.694983Z",
     "iopub.status.idle": "2025-02-21T21:28:18.705427Z",
     "shell.execute_reply": "2025-02-21T21:28:18.705085Z"
    }
   },
   "outputs": [],
   "source": [
    "DEFAULT_PARTS = 11\n",
    "NULL_VAL = '<*>'\n",
    "\n",
    "class TokensMap(Enum):\n",
    "    \"\"\"\n",
    "    A map between ingredients of an event and their\n",
    "    corresponding indices in raw data\n",
    "    \"\"\"\n",
    "    trigger = (1, 3)\n",
    "    pp_1 = (3, 5)\n",
    "    pp_2 = (5, 7)\n",
    "    time = (7, 9)\n",
    "    loc = (9, 11)\n",
    "\n",
    "\n",
    "class Event:\n",
    "    def __init__(self, parts: List[str]):\n",
    "        \"\"\"\n",
    "        Take\n",
    "        \"\"\"\n",
    "        assert len(parts) == DEFAULT_PARTS\n",
    "        self._parts = parts\n",
    "\n",
    "        self._sentence = parts[0]\n",
    "        self._tokens = self._sentence.strip().split()\n",
    "\n",
    "        for part in (TokensMap):\n",
    "            self._add_attrs(part)\n",
    "\n",
    "    def _add_attrs(self, part: TokensMap):\n",
    "        \"\"\"\n",
    "        Extract tokens from `self._sentence` attribute given an interval\n",
    "\n",
    "        ['I love pizza .'] and indices (1, 3), return ['love', 'pizza', '.']\n",
    "\n",
    "        :params: indices_in_parts: a tuple of start and end indices of an interval\n",
    "        :return: a list of tokens\n",
    "        \"\"\"\n",
    "\n",
    "        # first, retrieve indices of tokens consisting of a part (e.g. trigger)\n",
    "        name_in_part, indices_in_part = part.name, part.value\n",
    "        span_indices = self._parts[slice(*indices_in_part)]\n",
    "        span_indices = [int(i) for i in span_indices]\n",
    "\n",
    "        # case: -1 denotes the data contains no information about current part\n",
    "        #       e.g. no trigger (verb phrase) in the sentence\n",
    "        if -1 in span_indices:\n",
    "            self.__setattr__(f\"_{name_in_part}\", NULL_VAL)\n",
    "\n",
    "        s, e = span_indices\n",
    "\n",
    "        if s == e:\n",
    "            return self.__setattr__(f\"_{name_in_part}\", self._tokens[s])\n",
    "\n",
    "        return self.__setattr__(f\"_{name_in_part}\", self._tokens[s : e])\n",
    "\n",
    "    @property\n",
    "    def sentence(self):\n",
    "        return self._sentence\n",
    "\n",
    "    @property\n",
    "    def trigger(self):\n",
    "        return self._trigger\n",
    "\n",
    "    @property\n",
    "    def pp1(self):\n",
    "        return self._pp_1\n",
    "\n",
    "    @property\n",
    "    def pp2(self):\n",
    "        return self._pp_2\n",
    "\n",
    "    @property\n",
    "    def time(self):\n",
    "        return self._time\n",
    "\n",
    "    @property\n",
    "    def location(self):\n",
    "        return self._loc\n",
    "\n",
    "\n"
   ]
  },
  {
   "cell_type": "code",
   "execution_count": 6,
   "id": "e974dd92",
   "metadata": {
    "execution": {
     "iopub.execute_input": "2025-02-21T21:28:18.707253Z",
     "iopub.status.busy": "2025-02-21T21:28:18.707086Z",
     "iopub.status.idle": "2025-02-21T21:28:18.710810Z",
     "shell.execute_reply": "2025-02-21T21:28:18.710306Z"
    }
   },
   "outputs": [],
   "source": [
    "class EventPair:\n",
    "\n",
    "    def __init__(self, raw_data: str):\n",
    "        chunks = raw_data.strip().split('\\t')\n",
    "        mid = len(chunks) // 2\n",
    "\n",
    "        self._label = chunks[-1]\n",
    "        self._event_1 = Event(chunks[:mid])\n",
    "        self._event_2 = Event(chunks[mid:-1])\n",
    "\n",
    "    @property\n",
    "    def label(self):\n",
    "        return self._label\n",
    "\n",
    "    @property\n",
    "    def events(self):\n",
    "        return self._event_1, self._event_2\n"
   ]
  },
  {
   "cell_type": "code",
   "execution_count": 7,
   "id": "cc63300c",
   "metadata": {
    "execution": {
     "iopub.execute_input": "2025-02-21T21:28:18.712928Z",
     "iopub.status.busy": "2025-02-21T21:28:18.712645Z",
     "iopub.status.idle": "2025-02-21T21:28:18.715067Z",
     "shell.execute_reply": "2025-02-21T21:28:18.714689Z"
    }
   },
   "outputs": [],
   "source": [
    "def load_data(fpath: Path):\n",
    "    with open(fpath, 'r', encoding='utf-8') as f:\n",
    "        for line in f:\n",
    "            yield EventPair(line)"
   ]
  },
  {
   "cell_type": "code",
   "execution_count": 8,
   "id": "04926d96",
   "metadata": {
    "execution": {
     "iopub.execute_input": "2025-02-21T21:28:18.717172Z",
     "iopub.status.busy": "2025-02-21T21:28:18.716892Z",
     "iopub.status.idle": "2025-02-21T21:28:19.293916Z",
     "shell.execute_reply": "2025-02-21T21:28:19.293547Z"
    }
   },
   "outputs": [],
   "source": [
    "event_pairs = list(load_data(DATA_PATH))"
   ]
  },
  {
   "cell_type": "code",
   "execution_count": 9,
   "id": "5f861df2",
   "metadata": {
    "execution": {
     "iopub.execute_input": "2025-02-21T21:28:19.295495Z",
     "iopub.status.busy": "2025-02-21T21:28:19.295393Z",
     "iopub.status.idle": "2025-02-21T21:28:19.297183Z",
     "shell.execute_reply": "2025-02-21T21:28:19.297044Z"
    }
   },
   "outputs": [
    {
     "data": {
      "text/plain": [
       "36438"
      ]
     },
     "execution_count": 9,
     "metadata": {},
     "output_type": "execute_result"
    }
   ],
   "source": [
    "len(event_pairs)"
   ]
  },
  {
   "cell_type": "code",
   "execution_count": 10,
   "id": "73714d95",
   "metadata": {
    "execution": {
     "iopub.execute_input": "2025-02-21T21:28:19.298287Z",
     "iopub.status.busy": "2025-02-21T21:28:19.298218Z",
     "iopub.status.idle": "2025-02-21T21:28:19.299435Z",
     "shell.execute_reply": "2025-02-21T21:28:19.299297Z"
    }
   },
   "outputs": [],
   "source": [
    "pair = event_pairs[0]"
   ]
  },
  {
   "cell_type": "code",
   "execution_count": 11,
   "id": "32e75ab0",
   "metadata": {
    "execution": {
     "iopub.execute_input": "2025-02-21T21:28:19.300626Z",
     "iopub.status.busy": "2025-02-21T21:28:19.300522Z",
     "iopub.status.idle": "2025-02-21T21:28:19.301975Z",
     "shell.execute_reply": "2025-02-21T21:28:19.301832Z"
    }
   },
   "outputs": [
    {
     "name": "stdout",
     "output_type": "stream",
     "text": [
      "1\n",
      "Here is what we know about the fighting at and around Al - Shifa medical center that the Israeli army says has killed more than 140 Palestinian militants .\n",
      "Global calls for a humanitarian ceasefire have mounted in recent days as Al - Shifa became the focus of Israel ’s war on Hamas , and fears grew for the thousands of people trapped there , on the frontline of the conflict .\n",
      "fighting | conflict\n"
     ]
    }
   ],
   "source": [
    "print(pair.label)\n",
    "e1, e2 = pair.events\n",
    "print(e1.sentence)\n",
    "print(e2.sentence)\n",
    "print(f\"{e1.trigger} | {e2.trigger}\")"
   ]
  },
  {
   "cell_type": "code",
   "execution_count": null,
   "id": "f2a4ca17",
   "metadata": {},
   "outputs": [],
   "source": []
  }
 ],
 "metadata": {
  "kernelspec": {
   "display_name": "Python 3",
   "language": "python",
   "name": "python3"
  },
  "language_info": {
   "codemirror_mode": {
    "name": "ipython",
    "version": 3
   },
   "file_extension": ".py",
   "mimetype": "text/x-python",
   "name": "python",
   "nbconvert_exporter": "python",
   "pygments_lexer": "ipython3",
   "version": "3.12.3"
  }
 },
 "nbformat": 4,
 "nbformat_minor": 5
}
